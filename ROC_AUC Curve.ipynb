{
 "cells": [
  {
   "cell_type": "code",
   "execution_count": 1,
   "id": "dc093bcb",
   "metadata": {
    "ExecuteTime": {
     "end_time": "2023-03-28T05:13:36.103612Z",
     "start_time": "2023-03-28T05:13:36.078648Z"
    }
   },
   "outputs": [],
   "source": [
    "#Importing Libraries"
   ]
  },
  {
   "cell_type": "code",
   "execution_count": 2,
   "id": "5a5a6745",
   "metadata": {
    "ExecuteTime": {
     "end_time": "2023-03-28T05:13:40.948006Z",
     "start_time": "2023-03-28T05:13:36.118670Z"
    }
   },
   "outputs": [],
   "source": [
    "import pandas as pd\n",
    "import numpy as np\n",
    "import matplotlib.pyplot as plt\n",
    "import seaborn as sns\n",
    "from sklearn.metrics import confusion_matrix,classification_report,accuracy_score,roc_auc_score,roc_curve\n",
    "from sklearn.linear_model import LogisticRegression\n",
    "from sklearn.model_selection import train_test_split\n",
    "import warnings\n",
    "warnings.filterwarnings('ignore')\n",
    "%matplotlib inline"
   ]
  },
  {
   "cell_type": "code",
   "execution_count": 3,
   "id": "e5c19622",
   "metadata": {
    "ExecuteTime": {
     "end_time": "2023-03-28T05:13:40.967511Z",
     "start_time": "2023-03-28T05:13:40.955883Z"
    }
   },
   "outputs": [],
   "source": [
    "#Import data set "
   ]
  },
  {
   "cell_type": "code",
   "execution_count": 4,
   "id": "1acb1e75",
   "metadata": {
    "ExecuteTime": {
     "end_time": "2023-03-28T05:13:41.363512Z",
     "start_time": "2023-03-28T05:13:40.996319Z"
    }
   },
   "outputs": [],
   "source": [
    "df = pd.read_csv('https://raw.githubusercontent.com/aishwaryamate/Datasets/main/diabetes.csv')"
   ]
  },
  {
   "cell_type": "code",
   "execution_count": 5,
   "id": "f4e2d9fc",
   "metadata": {
    "ExecuteTime": {
     "end_time": "2023-03-28T05:13:41.473610Z",
     "start_time": "2023-03-28T05:13:41.374530Z"
    }
   },
   "outputs": [
    {
     "data": {
      "text/html": [
       "<div>\n",
       "<style scoped>\n",
       "    .dataframe tbody tr th:only-of-type {\n",
       "        vertical-align: middle;\n",
       "    }\n",
       "\n",
       "    .dataframe tbody tr th {\n",
       "        vertical-align: top;\n",
       "    }\n",
       "\n",
       "    .dataframe thead th {\n",
       "        text-align: right;\n",
       "    }\n",
       "</style>\n",
       "<table border=\"1\" class=\"dataframe\">\n",
       "  <thead>\n",
       "    <tr style=\"text-align: right;\">\n",
       "      <th></th>\n",
       "      <th>Pregnancies</th>\n",
       "      <th>Glucose</th>\n",
       "      <th>BloodPressure</th>\n",
       "      <th>SkinThickness</th>\n",
       "      <th>Insulin</th>\n",
       "      <th>BMI</th>\n",
       "      <th>DiabetesPedigreeFunction</th>\n",
       "      <th>Age</th>\n",
       "      <th>Outcome</th>\n",
       "    </tr>\n",
       "  </thead>\n",
       "  <tbody>\n",
       "    <tr>\n",
       "      <th>0</th>\n",
       "      <td>6</td>\n",
       "      <td>148</td>\n",
       "      <td>72</td>\n",
       "      <td>35</td>\n",
       "      <td>0</td>\n",
       "      <td>33.6</td>\n",
       "      <td>0.627</td>\n",
       "      <td>50</td>\n",
       "      <td>1</td>\n",
       "    </tr>\n",
       "    <tr>\n",
       "      <th>1</th>\n",
       "      <td>1</td>\n",
       "      <td>85</td>\n",
       "      <td>66</td>\n",
       "      <td>29</td>\n",
       "      <td>0</td>\n",
       "      <td>26.6</td>\n",
       "      <td>0.351</td>\n",
       "      <td>31</td>\n",
       "      <td>0</td>\n",
       "    </tr>\n",
       "    <tr>\n",
       "      <th>2</th>\n",
       "      <td>8</td>\n",
       "      <td>183</td>\n",
       "      <td>64</td>\n",
       "      <td>0</td>\n",
       "      <td>0</td>\n",
       "      <td>23.3</td>\n",
       "      <td>0.672</td>\n",
       "      <td>32</td>\n",
       "      <td>1</td>\n",
       "    </tr>\n",
       "    <tr>\n",
       "      <th>3</th>\n",
       "      <td>1</td>\n",
       "      <td>89</td>\n",
       "      <td>66</td>\n",
       "      <td>23</td>\n",
       "      <td>94</td>\n",
       "      <td>28.1</td>\n",
       "      <td>0.167</td>\n",
       "      <td>21</td>\n",
       "      <td>0</td>\n",
       "    </tr>\n",
       "    <tr>\n",
       "      <th>4</th>\n",
       "      <td>0</td>\n",
       "      <td>137</td>\n",
       "      <td>40</td>\n",
       "      <td>35</td>\n",
       "      <td>168</td>\n",
       "      <td>43.1</td>\n",
       "      <td>2.288</td>\n",
       "      <td>33</td>\n",
       "      <td>1</td>\n",
       "    </tr>\n",
       "  </tbody>\n",
       "</table>\n",
       "</div>"
      ],
      "text/plain": [
       "   Pregnancies  Glucose  BloodPressure  SkinThickness  Insulin   BMI  \\\n",
       "0            6      148             72             35        0  33.6   \n",
       "1            1       85             66             29        0  26.6   \n",
       "2            8      183             64              0        0  23.3   \n",
       "3            1       89             66             23       94  28.1   \n",
       "4            0      137             40             35      168  43.1   \n",
       "\n",
       "   DiabetesPedigreeFunction  Age  Outcome  \n",
       "0                     0.627   50        1  \n",
       "1                     0.351   31        0  \n",
       "2                     0.672   32        1  \n",
       "3                     0.167   21        0  \n",
       "4                     2.288   33        1  "
      ]
     },
     "execution_count": 5,
     "metadata": {},
     "output_type": "execute_result"
    }
   ],
   "source": [
    "df.head()"
   ]
  },
  {
   "cell_type": "code",
   "execution_count": 6,
   "id": "d8dac4bb",
   "metadata": {
    "ExecuteTime": {
     "end_time": "2023-03-28T05:13:41.583547Z",
     "start_time": "2023-03-28T05:13:41.483720Z"
    }
   },
   "outputs": [
    {
     "name": "stdout",
     "output_type": "stream",
     "text": [
      "<class 'pandas.core.frame.DataFrame'>\n",
      "RangeIndex: 768 entries, 0 to 767\n",
      "Data columns (total 9 columns):\n",
      " #   Column                    Non-Null Count  Dtype  \n",
      "---  ------                    --------------  -----  \n",
      " 0   Pregnancies               768 non-null    int64  \n",
      " 1   Glucose                   768 non-null    int64  \n",
      " 2   BloodPressure             768 non-null    int64  \n",
      " 3   SkinThickness             768 non-null    int64  \n",
      " 4   Insulin                   768 non-null    int64  \n",
      " 5   BMI                       768 non-null    float64\n",
      " 6   DiabetesPedigreeFunction  768 non-null    float64\n",
      " 7   Age                       768 non-null    int64  \n",
      " 8   Outcome                   768 non-null    int64  \n",
      "dtypes: float64(2), int64(7)\n",
      "memory usage: 54.1 KB\n"
     ]
    }
   ],
   "source": [
    "df.info()"
   ]
  },
  {
   "cell_type": "code",
   "execution_count": 7,
   "id": "f6e6bdb7",
   "metadata": {
    "ExecuteTime": {
     "end_time": "2023-03-28T05:13:41.615500Z",
     "start_time": "2023-03-28T05:13:41.587244Z"
    }
   },
   "outputs": [
    {
     "data": {
      "text/plain": [
       "Pregnancies                   int64\n",
       "Glucose                       int64\n",
       "BloodPressure                 int64\n",
       "SkinThickness                 int64\n",
       "Insulin                       int64\n",
       "BMI                         float64\n",
       "DiabetesPedigreeFunction    float64\n",
       "Age                           int64\n",
       "Outcome                       int64\n",
       "dtype: object"
      ]
     },
     "execution_count": 7,
     "metadata": {},
     "output_type": "execute_result"
    }
   ],
   "source": [
    "df.dtypes"
   ]
  },
  {
   "cell_type": "code",
   "execution_count": 8,
   "id": "d3badc6f",
   "metadata": {
    "ExecuteTime": {
     "end_time": "2023-03-28T05:13:41.662762Z",
     "start_time": "2023-03-28T05:13:41.623576Z"
    }
   },
   "outputs": [
    {
     "data": {
      "text/html": [
       "<div>\n",
       "<style scoped>\n",
       "    .dataframe tbody tr th:only-of-type {\n",
       "        vertical-align: middle;\n",
       "    }\n",
       "\n",
       "    .dataframe tbody tr th {\n",
       "        vertical-align: top;\n",
       "    }\n",
       "\n",
       "    .dataframe thead th {\n",
       "        text-align: right;\n",
       "    }\n",
       "</style>\n",
       "<table border=\"1\" class=\"dataframe\">\n",
       "  <thead>\n",
       "    <tr style=\"text-align: right;\">\n",
       "      <th></th>\n",
       "      <th>Pregnancies</th>\n",
       "      <th>Glucose</th>\n",
       "      <th>BloodPressure</th>\n",
       "      <th>SkinThickness</th>\n",
       "      <th>Insulin</th>\n",
       "      <th>BMI</th>\n",
       "      <th>DiabetesPedigreeFunction</th>\n",
       "      <th>Age</th>\n",
       "      <th>Outcome</th>\n",
       "    </tr>\n",
       "  </thead>\n",
       "  <tbody>\n",
       "  </tbody>\n",
       "</table>\n",
       "</div>"
      ],
      "text/plain": [
       "Empty DataFrame\n",
       "Columns: [Pregnancies, Glucose, BloodPressure, SkinThickness, Insulin, BMI, DiabetesPedigreeFunction, Age, Outcome]\n",
       "Index: []"
      ]
     },
     "execution_count": 8,
     "metadata": {},
     "output_type": "execute_result"
    }
   ],
   "source": [
    "df[df.duplicated()]"
   ]
  },
  {
   "cell_type": "code",
   "execution_count": 9,
   "id": "7c7f4d58",
   "metadata": {
    "ExecuteTime": {
     "end_time": "2023-03-28T05:13:41.694625Z",
     "start_time": "2023-03-28T05:13:41.667922Z"
    }
   },
   "outputs": [
    {
     "data": {
      "text/plain": [
       "Pregnancies                 0\n",
       "Glucose                     0\n",
       "BloodPressure               0\n",
       "SkinThickness               0\n",
       "Insulin                     0\n",
       "BMI                         0\n",
       "DiabetesPedigreeFunction    0\n",
       "Age                         0\n",
       "Outcome                     0\n",
       "dtype: int64"
      ]
     },
     "execution_count": 9,
     "metadata": {},
     "output_type": "execute_result"
    }
   ],
   "source": [
    "df.isna().sum()"
   ]
  },
  {
   "cell_type": "code",
   "execution_count": 10,
   "id": "b59dc568",
   "metadata": {
    "ExecuteTime": {
     "end_time": "2023-03-28T05:13:41.742176Z",
     "start_time": "2023-03-28T05:13:41.723367Z"
    }
   },
   "outputs": [],
   "source": [
    "#describe the data"
   ]
  },
  {
   "cell_type": "code",
   "execution_count": 11,
   "id": "6acc9b0b",
   "metadata": {
    "ExecuteTime": {
     "end_time": "2023-03-28T05:13:41.821076Z",
     "start_time": "2023-03-28T05:13:41.748306Z"
    }
   },
   "outputs": [
    {
     "data": {
      "text/html": [
       "<div>\n",
       "<style scoped>\n",
       "    .dataframe tbody tr th:only-of-type {\n",
       "        vertical-align: middle;\n",
       "    }\n",
       "\n",
       "    .dataframe tbody tr th {\n",
       "        vertical-align: top;\n",
       "    }\n",
       "\n",
       "    .dataframe thead th {\n",
       "        text-align: right;\n",
       "    }\n",
       "</style>\n",
       "<table border=\"1\" class=\"dataframe\">\n",
       "  <thead>\n",
       "    <tr style=\"text-align: right;\">\n",
       "      <th></th>\n",
       "      <th>Pregnancies</th>\n",
       "      <th>Glucose</th>\n",
       "      <th>BloodPressure</th>\n",
       "      <th>SkinThickness</th>\n",
       "      <th>Insulin</th>\n",
       "      <th>BMI</th>\n",
       "      <th>DiabetesPedigreeFunction</th>\n",
       "      <th>Age</th>\n",
       "      <th>Outcome</th>\n",
       "    </tr>\n",
       "  </thead>\n",
       "  <tbody>\n",
       "    <tr>\n",
       "      <th>count</th>\n",
       "      <td>768.000000</td>\n",
       "      <td>768.000000</td>\n",
       "      <td>768.000000</td>\n",
       "      <td>768.000000</td>\n",
       "      <td>768.000000</td>\n",
       "      <td>768.000000</td>\n",
       "      <td>768.000000</td>\n",
       "      <td>768.000000</td>\n",
       "      <td>768.000000</td>\n",
       "    </tr>\n",
       "    <tr>\n",
       "      <th>mean</th>\n",
       "      <td>3.845052</td>\n",
       "      <td>120.894531</td>\n",
       "      <td>69.105469</td>\n",
       "      <td>20.536458</td>\n",
       "      <td>79.799479</td>\n",
       "      <td>31.992578</td>\n",
       "      <td>0.471876</td>\n",
       "      <td>33.240885</td>\n",
       "      <td>0.348958</td>\n",
       "    </tr>\n",
       "    <tr>\n",
       "      <th>std</th>\n",
       "      <td>3.369578</td>\n",
       "      <td>31.972618</td>\n",
       "      <td>19.355807</td>\n",
       "      <td>15.952218</td>\n",
       "      <td>115.244002</td>\n",
       "      <td>7.884160</td>\n",
       "      <td>0.331329</td>\n",
       "      <td>11.760232</td>\n",
       "      <td>0.476951</td>\n",
       "    </tr>\n",
       "    <tr>\n",
       "      <th>min</th>\n",
       "      <td>0.000000</td>\n",
       "      <td>0.000000</td>\n",
       "      <td>0.000000</td>\n",
       "      <td>0.000000</td>\n",
       "      <td>0.000000</td>\n",
       "      <td>0.000000</td>\n",
       "      <td>0.078000</td>\n",
       "      <td>21.000000</td>\n",
       "      <td>0.000000</td>\n",
       "    </tr>\n",
       "    <tr>\n",
       "      <th>25%</th>\n",
       "      <td>1.000000</td>\n",
       "      <td>99.000000</td>\n",
       "      <td>62.000000</td>\n",
       "      <td>0.000000</td>\n",
       "      <td>0.000000</td>\n",
       "      <td>27.300000</td>\n",
       "      <td>0.243750</td>\n",
       "      <td>24.000000</td>\n",
       "      <td>0.000000</td>\n",
       "    </tr>\n",
       "    <tr>\n",
       "      <th>50%</th>\n",
       "      <td>3.000000</td>\n",
       "      <td>117.000000</td>\n",
       "      <td>72.000000</td>\n",
       "      <td>23.000000</td>\n",
       "      <td>30.500000</td>\n",
       "      <td>32.000000</td>\n",
       "      <td>0.372500</td>\n",
       "      <td>29.000000</td>\n",
       "      <td>0.000000</td>\n",
       "    </tr>\n",
       "    <tr>\n",
       "      <th>75%</th>\n",
       "      <td>6.000000</td>\n",
       "      <td>140.250000</td>\n",
       "      <td>80.000000</td>\n",
       "      <td>32.000000</td>\n",
       "      <td>127.250000</td>\n",
       "      <td>36.600000</td>\n",
       "      <td>0.626250</td>\n",
       "      <td>41.000000</td>\n",
       "      <td>1.000000</td>\n",
       "    </tr>\n",
       "    <tr>\n",
       "      <th>max</th>\n",
       "      <td>17.000000</td>\n",
       "      <td>199.000000</td>\n",
       "      <td>122.000000</td>\n",
       "      <td>99.000000</td>\n",
       "      <td>846.000000</td>\n",
       "      <td>67.100000</td>\n",
       "      <td>2.420000</td>\n",
       "      <td>81.000000</td>\n",
       "      <td>1.000000</td>\n",
       "    </tr>\n",
       "  </tbody>\n",
       "</table>\n",
       "</div>"
      ],
      "text/plain": [
       "       Pregnancies     Glucose  BloodPressure  SkinThickness     Insulin  \\\n",
       "count   768.000000  768.000000     768.000000     768.000000  768.000000   \n",
       "mean      3.845052  120.894531      69.105469      20.536458   79.799479   \n",
       "std       3.369578   31.972618      19.355807      15.952218  115.244002   \n",
       "min       0.000000    0.000000       0.000000       0.000000    0.000000   \n",
       "25%       1.000000   99.000000      62.000000       0.000000    0.000000   \n",
       "50%       3.000000  117.000000      72.000000      23.000000   30.500000   \n",
       "75%       6.000000  140.250000      80.000000      32.000000  127.250000   \n",
       "max      17.000000  199.000000     122.000000      99.000000  846.000000   \n",
       "\n",
       "              BMI  DiabetesPedigreeFunction         Age     Outcome  \n",
       "count  768.000000                768.000000  768.000000  768.000000  \n",
       "mean    31.992578                  0.471876   33.240885    0.348958  \n",
       "std      7.884160                  0.331329   11.760232    0.476951  \n",
       "min      0.000000                  0.078000   21.000000    0.000000  \n",
       "25%     27.300000                  0.243750   24.000000    0.000000  \n",
       "50%     32.000000                  0.372500   29.000000    0.000000  \n",
       "75%     36.600000                  0.626250   41.000000    1.000000  \n",
       "max     67.100000                  2.420000   81.000000    1.000000  "
      ]
     },
     "execution_count": 11,
     "metadata": {},
     "output_type": "execute_result"
    }
   ],
   "source": [
    "df.describe()"
   ]
  },
  {
   "cell_type": "code",
   "execution_count": 12,
   "id": "f95c5485",
   "metadata": {
    "ExecuteTime": {
     "end_time": "2023-03-28T05:13:41.898390Z",
     "start_time": "2023-03-28T05:13:41.824568Z"
    }
   },
   "outputs": [
    {
     "data": {
      "text/html": [
       "<div>\n",
       "<style scoped>\n",
       "    .dataframe tbody tr th:only-of-type {\n",
       "        vertical-align: middle;\n",
       "    }\n",
       "\n",
       "    .dataframe tbody tr th {\n",
       "        vertical-align: top;\n",
       "    }\n",
       "\n",
       "    .dataframe thead th {\n",
       "        text-align: right;\n",
       "    }\n",
       "</style>\n",
       "<table border=\"1\" class=\"dataframe\">\n",
       "  <thead>\n",
       "    <tr style=\"text-align: right;\">\n",
       "      <th></th>\n",
       "      <th>Pregnancies</th>\n",
       "      <th>Glucose</th>\n",
       "      <th>BloodPressure</th>\n",
       "      <th>SkinThickness</th>\n",
       "      <th>Insulin</th>\n",
       "      <th>BMI</th>\n",
       "      <th>DiabetesPedigreeFunction</th>\n",
       "      <th>Age</th>\n",
       "      <th>Outcome</th>\n",
       "    </tr>\n",
       "  </thead>\n",
       "  <tbody>\n",
       "    <tr>\n",
       "      <th>0</th>\n",
       "      <td>6</td>\n",
       "      <td>148</td>\n",
       "      <td>72</td>\n",
       "      <td>35</td>\n",
       "      <td>0</td>\n",
       "      <td>33.6</td>\n",
       "      <td>0.627</td>\n",
       "      <td>50</td>\n",
       "      <td>1</td>\n",
       "    </tr>\n",
       "    <tr>\n",
       "      <th>1</th>\n",
       "      <td>1</td>\n",
       "      <td>85</td>\n",
       "      <td>66</td>\n",
       "      <td>29</td>\n",
       "      <td>0</td>\n",
       "      <td>26.6</td>\n",
       "      <td>0.351</td>\n",
       "      <td>31</td>\n",
       "      <td>0</td>\n",
       "    </tr>\n",
       "    <tr>\n",
       "      <th>2</th>\n",
       "      <td>8</td>\n",
       "      <td>183</td>\n",
       "      <td>64</td>\n",
       "      <td>0</td>\n",
       "      <td>0</td>\n",
       "      <td>23.3</td>\n",
       "      <td>0.672</td>\n",
       "      <td>32</td>\n",
       "      <td>1</td>\n",
       "    </tr>\n",
       "    <tr>\n",
       "      <th>3</th>\n",
       "      <td>1</td>\n",
       "      <td>89</td>\n",
       "      <td>66</td>\n",
       "      <td>23</td>\n",
       "      <td>94</td>\n",
       "      <td>28.1</td>\n",
       "      <td>0.167</td>\n",
       "      <td>21</td>\n",
       "      <td>0</td>\n",
       "    </tr>\n",
       "    <tr>\n",
       "      <th>4</th>\n",
       "      <td>0</td>\n",
       "      <td>137</td>\n",
       "      <td>40</td>\n",
       "      <td>35</td>\n",
       "      <td>168</td>\n",
       "      <td>43.1</td>\n",
       "      <td>2.288</td>\n",
       "      <td>33</td>\n",
       "      <td>1</td>\n",
       "    </tr>\n",
       "  </tbody>\n",
       "</table>\n",
       "</div>"
      ],
      "text/plain": [
       "   Pregnancies  Glucose  BloodPressure  SkinThickness  Insulin   BMI  \\\n",
       "0            6      148             72             35        0  33.6   \n",
       "1            1       85             66             29        0  26.6   \n",
       "2            8      183             64              0        0  23.3   \n",
       "3            1       89             66             23       94  28.1   \n",
       "4            0      137             40             35      168  43.1   \n",
       "\n",
       "   DiabetesPedigreeFunction  Age  Outcome  \n",
       "0                     0.627   50        1  \n",
       "1                     0.351   31        0  \n",
       "2                     0.672   32        1  \n",
       "3                     0.167   21        0  \n",
       "4                     2.288   33        1  "
      ]
     },
     "execution_count": 12,
     "metadata": {},
     "output_type": "execute_result"
    }
   ],
   "source": [
    "df.head()"
   ]
  },
  {
   "cell_type": "code",
   "execution_count": 13,
   "id": "a57ea498",
   "metadata": {
    "ExecuteTime": {
     "end_time": "2023-03-28T05:13:41.933508Z",
     "start_time": "2023-03-28T05:13:41.914861Z"
    }
   },
   "outputs": [],
   "source": [
    "X =df.iloc[:,0:-1]"
   ]
  },
  {
   "cell_type": "code",
   "execution_count": 14,
   "id": "ad9310a0",
   "metadata": {
    "ExecuteTime": {
     "end_time": "2023-03-28T05:13:41.970785Z",
     "start_time": "2023-03-28T05:13:41.940728Z"
    }
   },
   "outputs": [],
   "source": [
    "y =df['Outcome']"
   ]
  },
  {
   "cell_type": "code",
   "execution_count": 15,
   "id": "a662bf52",
   "metadata": {
    "ExecuteTime": {
     "end_time": "2023-03-28T05:13:42.027310Z",
     "start_time": "2023-03-28T05:13:41.977307Z"
    }
   },
   "outputs": [
    {
     "data": {
      "text/html": [
       "<div>\n",
       "<style scoped>\n",
       "    .dataframe tbody tr th:only-of-type {\n",
       "        vertical-align: middle;\n",
       "    }\n",
       "\n",
       "    .dataframe tbody tr th {\n",
       "        vertical-align: top;\n",
       "    }\n",
       "\n",
       "    .dataframe thead th {\n",
       "        text-align: right;\n",
       "    }\n",
       "</style>\n",
       "<table border=\"1\" class=\"dataframe\">\n",
       "  <thead>\n",
       "    <tr style=\"text-align: right;\">\n",
       "      <th></th>\n",
       "      <th>Pregnancies</th>\n",
       "      <th>Glucose</th>\n",
       "      <th>BloodPressure</th>\n",
       "      <th>SkinThickness</th>\n",
       "      <th>Insulin</th>\n",
       "      <th>BMI</th>\n",
       "      <th>DiabetesPedigreeFunction</th>\n",
       "      <th>Age</th>\n",
       "    </tr>\n",
       "  </thead>\n",
       "  <tbody>\n",
       "    <tr>\n",
       "      <th>0</th>\n",
       "      <td>6</td>\n",
       "      <td>148</td>\n",
       "      <td>72</td>\n",
       "      <td>35</td>\n",
       "      <td>0</td>\n",
       "      <td>33.6</td>\n",
       "      <td>0.627</td>\n",
       "      <td>50</td>\n",
       "    </tr>\n",
       "    <tr>\n",
       "      <th>1</th>\n",
       "      <td>1</td>\n",
       "      <td>85</td>\n",
       "      <td>66</td>\n",
       "      <td>29</td>\n",
       "      <td>0</td>\n",
       "      <td>26.6</td>\n",
       "      <td>0.351</td>\n",
       "      <td>31</td>\n",
       "    </tr>\n",
       "    <tr>\n",
       "      <th>2</th>\n",
       "      <td>8</td>\n",
       "      <td>183</td>\n",
       "      <td>64</td>\n",
       "      <td>0</td>\n",
       "      <td>0</td>\n",
       "      <td>23.3</td>\n",
       "      <td>0.672</td>\n",
       "      <td>32</td>\n",
       "    </tr>\n",
       "    <tr>\n",
       "      <th>3</th>\n",
       "      <td>1</td>\n",
       "      <td>89</td>\n",
       "      <td>66</td>\n",
       "      <td>23</td>\n",
       "      <td>94</td>\n",
       "      <td>28.1</td>\n",
       "      <td>0.167</td>\n",
       "      <td>21</td>\n",
       "    </tr>\n",
       "    <tr>\n",
       "      <th>4</th>\n",
       "      <td>0</td>\n",
       "      <td>137</td>\n",
       "      <td>40</td>\n",
       "      <td>35</td>\n",
       "      <td>168</td>\n",
       "      <td>43.1</td>\n",
       "      <td>2.288</td>\n",
       "      <td>33</td>\n",
       "    </tr>\n",
       "    <tr>\n",
       "      <th>...</th>\n",
       "      <td>...</td>\n",
       "      <td>...</td>\n",
       "      <td>...</td>\n",
       "      <td>...</td>\n",
       "      <td>...</td>\n",
       "      <td>...</td>\n",
       "      <td>...</td>\n",
       "      <td>...</td>\n",
       "    </tr>\n",
       "    <tr>\n",
       "      <th>763</th>\n",
       "      <td>10</td>\n",
       "      <td>101</td>\n",
       "      <td>76</td>\n",
       "      <td>48</td>\n",
       "      <td>180</td>\n",
       "      <td>32.9</td>\n",
       "      <td>0.171</td>\n",
       "      <td>63</td>\n",
       "    </tr>\n",
       "    <tr>\n",
       "      <th>764</th>\n",
       "      <td>2</td>\n",
       "      <td>122</td>\n",
       "      <td>70</td>\n",
       "      <td>27</td>\n",
       "      <td>0</td>\n",
       "      <td>36.8</td>\n",
       "      <td>0.340</td>\n",
       "      <td>27</td>\n",
       "    </tr>\n",
       "    <tr>\n",
       "      <th>765</th>\n",
       "      <td>5</td>\n",
       "      <td>121</td>\n",
       "      <td>72</td>\n",
       "      <td>23</td>\n",
       "      <td>112</td>\n",
       "      <td>26.2</td>\n",
       "      <td>0.245</td>\n",
       "      <td>30</td>\n",
       "    </tr>\n",
       "    <tr>\n",
       "      <th>766</th>\n",
       "      <td>1</td>\n",
       "      <td>126</td>\n",
       "      <td>60</td>\n",
       "      <td>0</td>\n",
       "      <td>0</td>\n",
       "      <td>30.1</td>\n",
       "      <td>0.349</td>\n",
       "      <td>47</td>\n",
       "    </tr>\n",
       "    <tr>\n",
       "      <th>767</th>\n",
       "      <td>1</td>\n",
       "      <td>93</td>\n",
       "      <td>70</td>\n",
       "      <td>31</td>\n",
       "      <td>0</td>\n",
       "      <td>30.4</td>\n",
       "      <td>0.315</td>\n",
       "      <td>23</td>\n",
       "    </tr>\n",
       "  </tbody>\n",
       "</table>\n",
       "<p>768 rows × 8 columns</p>\n",
       "</div>"
      ],
      "text/plain": [
       "     Pregnancies  Glucose  BloodPressure  SkinThickness  Insulin   BMI  \\\n",
       "0              6      148             72             35        0  33.6   \n",
       "1              1       85             66             29        0  26.6   \n",
       "2              8      183             64              0        0  23.3   \n",
       "3              1       89             66             23       94  28.1   \n",
       "4              0      137             40             35      168  43.1   \n",
       "..           ...      ...            ...            ...      ...   ...   \n",
       "763           10      101             76             48      180  32.9   \n",
       "764            2      122             70             27        0  36.8   \n",
       "765            5      121             72             23      112  26.2   \n",
       "766            1      126             60              0        0  30.1   \n",
       "767            1       93             70             31        0  30.4   \n",
       "\n",
       "     DiabetesPedigreeFunction  Age  \n",
       "0                       0.627   50  \n",
       "1                       0.351   31  \n",
       "2                       0.672   32  \n",
       "3                       0.167   21  \n",
       "4                       2.288   33  \n",
       "..                        ...  ...  \n",
       "763                     0.171   63  \n",
       "764                     0.340   27  \n",
       "765                     0.245   30  \n",
       "766                     0.349   47  \n",
       "767                     0.315   23  \n",
       "\n",
       "[768 rows x 8 columns]"
      ]
     },
     "execution_count": 15,
     "metadata": {},
     "output_type": "execute_result"
    }
   ],
   "source": [
    "X"
   ]
  },
  {
   "cell_type": "code",
   "execution_count": 16,
   "id": "e6aa4f54",
   "metadata": {
    "ExecuteTime": {
     "end_time": "2023-03-28T05:13:42.074381Z",
     "start_time": "2023-03-28T05:13:42.043877Z"
    }
   },
   "outputs": [
    {
     "data": {
      "text/plain": [
       "0      1\n",
       "1      0\n",
       "2      1\n",
       "3      0\n",
       "4      1\n",
       "      ..\n",
       "763    0\n",
       "764    0\n",
       "765    0\n",
       "766    1\n",
       "767    0\n",
       "Name: Outcome, Length: 768, dtype: int64"
      ]
     },
     "execution_count": 16,
     "metadata": {},
     "output_type": "execute_result"
    }
   ],
   "source": [
    "y"
   ]
  },
  {
   "cell_type": "markdown",
   "id": "5373ff64",
   "metadata": {},
   "source": [
    "# Model Building"
   ]
  },
  {
   "cell_type": "code",
   "execution_count": 17,
   "id": "f6f784f6",
   "metadata": {
    "ExecuteTime": {
     "end_time": "2023-03-28T05:13:42.122088Z",
     "start_time": "2023-03-28T05:13:42.084804Z"
    }
   },
   "outputs": [],
   "source": [
    "X_train,X_test,y_train,y_test = train_test_split(X,y,test_size=0.25,random_state=0)"
   ]
  },
  {
   "cell_type": "code",
   "execution_count": 18,
   "id": "63dc1670",
   "metadata": {
    "ExecuteTime": {
     "end_time": "2023-03-28T05:13:42.169267Z",
     "start_time": "2023-03-28T05:13:42.123683Z"
    }
   },
   "outputs": [
    {
     "data": {
      "text/html": [
       "<div>\n",
       "<style scoped>\n",
       "    .dataframe tbody tr th:only-of-type {\n",
       "        vertical-align: middle;\n",
       "    }\n",
       "\n",
       "    .dataframe tbody tr th {\n",
       "        vertical-align: top;\n",
       "    }\n",
       "\n",
       "    .dataframe thead th {\n",
       "        text-align: right;\n",
       "    }\n",
       "</style>\n",
       "<table border=\"1\" class=\"dataframe\">\n",
       "  <thead>\n",
       "    <tr style=\"text-align: right;\">\n",
       "      <th></th>\n",
       "      <th>Pregnancies</th>\n",
       "      <th>Glucose</th>\n",
       "      <th>BloodPressure</th>\n",
       "      <th>SkinThickness</th>\n",
       "      <th>Insulin</th>\n",
       "      <th>BMI</th>\n",
       "      <th>DiabetesPedigreeFunction</th>\n",
       "      <th>Age</th>\n",
       "    </tr>\n",
       "  </thead>\n",
       "  <tbody>\n",
       "    <tr>\n",
       "      <th>762</th>\n",
       "      <td>9</td>\n",
       "      <td>89</td>\n",
       "      <td>62</td>\n",
       "      <td>0</td>\n",
       "      <td>0</td>\n",
       "      <td>22.5</td>\n",
       "      <td>0.142</td>\n",
       "      <td>33</td>\n",
       "    </tr>\n",
       "    <tr>\n",
       "      <th>127</th>\n",
       "      <td>1</td>\n",
       "      <td>118</td>\n",
       "      <td>58</td>\n",
       "      <td>36</td>\n",
       "      <td>94</td>\n",
       "      <td>33.3</td>\n",
       "      <td>0.261</td>\n",
       "      <td>23</td>\n",
       "    </tr>\n",
       "    <tr>\n",
       "      <th>564</th>\n",
       "      <td>0</td>\n",
       "      <td>91</td>\n",
       "      <td>80</td>\n",
       "      <td>0</td>\n",
       "      <td>0</td>\n",
       "      <td>32.4</td>\n",
       "      <td>0.601</td>\n",
       "      <td>27</td>\n",
       "    </tr>\n",
       "    <tr>\n",
       "      <th>375</th>\n",
       "      <td>12</td>\n",
       "      <td>140</td>\n",
       "      <td>82</td>\n",
       "      <td>43</td>\n",
       "      <td>325</td>\n",
       "      <td>39.2</td>\n",
       "      <td>0.528</td>\n",
       "      <td>58</td>\n",
       "    </tr>\n",
       "    <tr>\n",
       "      <th>663</th>\n",
       "      <td>9</td>\n",
       "      <td>145</td>\n",
       "      <td>80</td>\n",
       "      <td>46</td>\n",
       "      <td>130</td>\n",
       "      <td>37.9</td>\n",
       "      <td>0.637</td>\n",
       "      <td>40</td>\n",
       "    </tr>\n",
       "    <tr>\n",
       "      <th>...</th>\n",
       "      <td>...</td>\n",
       "      <td>...</td>\n",
       "      <td>...</td>\n",
       "      <td>...</td>\n",
       "      <td>...</td>\n",
       "      <td>...</td>\n",
       "      <td>...</td>\n",
       "      <td>...</td>\n",
       "    </tr>\n",
       "    <tr>\n",
       "      <th>763</th>\n",
       "      <td>10</td>\n",
       "      <td>101</td>\n",
       "      <td>76</td>\n",
       "      <td>48</td>\n",
       "      <td>180</td>\n",
       "      <td>32.9</td>\n",
       "      <td>0.171</td>\n",
       "      <td>63</td>\n",
       "    </tr>\n",
       "    <tr>\n",
       "      <th>192</th>\n",
       "      <td>7</td>\n",
       "      <td>159</td>\n",
       "      <td>66</td>\n",
       "      <td>0</td>\n",
       "      <td>0</td>\n",
       "      <td>30.4</td>\n",
       "      <td>0.383</td>\n",
       "      <td>36</td>\n",
       "    </tr>\n",
       "    <tr>\n",
       "      <th>629</th>\n",
       "      <td>4</td>\n",
       "      <td>94</td>\n",
       "      <td>65</td>\n",
       "      <td>22</td>\n",
       "      <td>0</td>\n",
       "      <td>24.7</td>\n",
       "      <td>0.148</td>\n",
       "      <td>21</td>\n",
       "    </tr>\n",
       "    <tr>\n",
       "      <th>559</th>\n",
       "      <td>11</td>\n",
       "      <td>85</td>\n",
       "      <td>74</td>\n",
       "      <td>0</td>\n",
       "      <td>0</td>\n",
       "      <td>30.1</td>\n",
       "      <td>0.300</td>\n",
       "      <td>35</td>\n",
       "    </tr>\n",
       "    <tr>\n",
       "      <th>684</th>\n",
       "      <td>5</td>\n",
       "      <td>136</td>\n",
       "      <td>82</td>\n",
       "      <td>0</td>\n",
       "      <td>0</td>\n",
       "      <td>0.0</td>\n",
       "      <td>0.640</td>\n",
       "      <td>69</td>\n",
       "    </tr>\n",
       "  </tbody>\n",
       "</table>\n",
       "<p>576 rows × 8 columns</p>\n",
       "</div>"
      ],
      "text/plain": [
       "     Pregnancies  Glucose  BloodPressure  SkinThickness  Insulin   BMI  \\\n",
       "762            9       89             62              0        0  22.5   \n",
       "127            1      118             58             36       94  33.3   \n",
       "564            0       91             80              0        0  32.4   \n",
       "375           12      140             82             43      325  39.2   \n",
       "663            9      145             80             46      130  37.9   \n",
       "..           ...      ...            ...            ...      ...   ...   \n",
       "763           10      101             76             48      180  32.9   \n",
       "192            7      159             66              0        0  30.4   \n",
       "629            4       94             65             22        0  24.7   \n",
       "559           11       85             74              0        0  30.1   \n",
       "684            5      136             82              0        0   0.0   \n",
       "\n",
       "     DiabetesPedigreeFunction  Age  \n",
       "762                     0.142   33  \n",
       "127                     0.261   23  \n",
       "564                     0.601   27  \n",
       "375                     0.528   58  \n",
       "663                     0.637   40  \n",
       "..                        ...  ...  \n",
       "763                     0.171   63  \n",
       "192                     0.383   36  \n",
       "629                     0.148   21  \n",
       "559                     0.300   35  \n",
       "684                     0.640   69  \n",
       "\n",
       "[576 rows x 8 columns]"
      ]
     },
     "execution_count": 18,
     "metadata": {},
     "output_type": "execute_result"
    }
   ],
   "source": [
    "X_train"
   ]
  },
  {
   "cell_type": "code",
   "execution_count": 19,
   "id": "d5111748",
   "metadata": {
    "ExecuteTime": {
     "end_time": "2023-03-28T05:13:42.231887Z",
     "start_time": "2023-03-28T05:13:42.173277Z"
    }
   },
   "outputs": [
    {
     "data": {
      "text/html": [
       "<div>\n",
       "<style scoped>\n",
       "    .dataframe tbody tr th:only-of-type {\n",
       "        vertical-align: middle;\n",
       "    }\n",
       "\n",
       "    .dataframe tbody tr th {\n",
       "        vertical-align: top;\n",
       "    }\n",
       "\n",
       "    .dataframe thead th {\n",
       "        text-align: right;\n",
       "    }\n",
       "</style>\n",
       "<table border=\"1\" class=\"dataframe\">\n",
       "  <thead>\n",
       "    <tr style=\"text-align: right;\">\n",
       "      <th></th>\n",
       "      <th>Pregnancies</th>\n",
       "      <th>Glucose</th>\n",
       "      <th>BloodPressure</th>\n",
       "      <th>SkinThickness</th>\n",
       "      <th>Insulin</th>\n",
       "      <th>BMI</th>\n",
       "      <th>DiabetesPedigreeFunction</th>\n",
       "      <th>Age</th>\n",
       "    </tr>\n",
       "  </thead>\n",
       "  <tbody>\n",
       "    <tr>\n",
       "      <th>661</th>\n",
       "      <td>1</td>\n",
       "      <td>199</td>\n",
       "      <td>76</td>\n",
       "      <td>43</td>\n",
       "      <td>0</td>\n",
       "      <td>42.9</td>\n",
       "      <td>1.394</td>\n",
       "      <td>22</td>\n",
       "    </tr>\n",
       "    <tr>\n",
       "      <th>122</th>\n",
       "      <td>2</td>\n",
       "      <td>107</td>\n",
       "      <td>74</td>\n",
       "      <td>30</td>\n",
       "      <td>100</td>\n",
       "      <td>33.6</td>\n",
       "      <td>0.404</td>\n",
       "      <td>23</td>\n",
       "    </tr>\n",
       "    <tr>\n",
       "      <th>113</th>\n",
       "      <td>4</td>\n",
       "      <td>76</td>\n",
       "      <td>62</td>\n",
       "      <td>0</td>\n",
       "      <td>0</td>\n",
       "      <td>34.0</td>\n",
       "      <td>0.391</td>\n",
       "      <td>25</td>\n",
       "    </tr>\n",
       "    <tr>\n",
       "      <th>14</th>\n",
       "      <td>5</td>\n",
       "      <td>166</td>\n",
       "      <td>72</td>\n",
       "      <td>19</td>\n",
       "      <td>175</td>\n",
       "      <td>25.8</td>\n",
       "      <td>0.587</td>\n",
       "      <td>51</td>\n",
       "    </tr>\n",
       "    <tr>\n",
       "      <th>529</th>\n",
       "      <td>0</td>\n",
       "      <td>111</td>\n",
       "      <td>65</td>\n",
       "      <td>0</td>\n",
       "      <td>0</td>\n",
       "      <td>24.6</td>\n",
       "      <td>0.660</td>\n",
       "      <td>31</td>\n",
       "    </tr>\n",
       "    <tr>\n",
       "      <th>...</th>\n",
       "      <td>...</td>\n",
       "      <td>...</td>\n",
       "      <td>...</td>\n",
       "      <td>...</td>\n",
       "      <td>...</td>\n",
       "      <td>...</td>\n",
       "      <td>...</td>\n",
       "      <td>...</td>\n",
       "    </tr>\n",
       "    <tr>\n",
       "      <th>366</th>\n",
       "      <td>6</td>\n",
       "      <td>124</td>\n",
       "      <td>72</td>\n",
       "      <td>0</td>\n",
       "      <td>0</td>\n",
       "      <td>27.6</td>\n",
       "      <td>0.368</td>\n",
       "      <td>29</td>\n",
       "    </tr>\n",
       "    <tr>\n",
       "      <th>301</th>\n",
       "      <td>2</td>\n",
       "      <td>144</td>\n",
       "      <td>58</td>\n",
       "      <td>33</td>\n",
       "      <td>135</td>\n",
       "      <td>31.6</td>\n",
       "      <td>0.422</td>\n",
       "      <td>25</td>\n",
       "    </tr>\n",
       "    <tr>\n",
       "      <th>382</th>\n",
       "      <td>1</td>\n",
       "      <td>109</td>\n",
       "      <td>60</td>\n",
       "      <td>8</td>\n",
       "      <td>182</td>\n",
       "      <td>25.4</td>\n",
       "      <td>0.947</td>\n",
       "      <td>21</td>\n",
       "    </tr>\n",
       "    <tr>\n",
       "      <th>140</th>\n",
       "      <td>3</td>\n",
       "      <td>128</td>\n",
       "      <td>78</td>\n",
       "      <td>0</td>\n",
       "      <td>0</td>\n",
       "      <td>21.1</td>\n",
       "      <td>0.268</td>\n",
       "      <td>55</td>\n",
       "    </tr>\n",
       "    <tr>\n",
       "      <th>463</th>\n",
       "      <td>5</td>\n",
       "      <td>88</td>\n",
       "      <td>78</td>\n",
       "      <td>30</td>\n",
       "      <td>0</td>\n",
       "      <td>27.6</td>\n",
       "      <td>0.258</td>\n",
       "      <td>37</td>\n",
       "    </tr>\n",
       "  </tbody>\n",
       "</table>\n",
       "<p>192 rows × 8 columns</p>\n",
       "</div>"
      ],
      "text/plain": [
       "     Pregnancies  Glucose  BloodPressure  SkinThickness  Insulin   BMI  \\\n",
       "661            1      199             76             43        0  42.9   \n",
       "122            2      107             74             30      100  33.6   \n",
       "113            4       76             62              0        0  34.0   \n",
       "14             5      166             72             19      175  25.8   \n",
       "529            0      111             65              0        0  24.6   \n",
       "..           ...      ...            ...            ...      ...   ...   \n",
       "366            6      124             72              0        0  27.6   \n",
       "301            2      144             58             33      135  31.6   \n",
       "382            1      109             60              8      182  25.4   \n",
       "140            3      128             78              0        0  21.1   \n",
       "463            5       88             78             30        0  27.6   \n",
       "\n",
       "     DiabetesPedigreeFunction  Age  \n",
       "661                     1.394   22  \n",
       "122                     0.404   23  \n",
       "113                     0.391   25  \n",
       "14                      0.587   51  \n",
       "529                     0.660   31  \n",
       "..                        ...  ...  \n",
       "366                     0.368   29  \n",
       "301                     0.422   25  \n",
       "382                     0.947   21  \n",
       "140                     0.268   55  \n",
       "463                     0.258   37  \n",
       "\n",
       "[192 rows x 8 columns]"
      ]
     },
     "execution_count": 19,
     "metadata": {},
     "output_type": "execute_result"
    }
   ],
   "source": [
    "X_test"
   ]
  },
  {
   "cell_type": "code",
   "execution_count": 20,
   "id": "613ea1e7",
   "metadata": {
    "ExecuteTime": {
     "end_time": "2023-03-28T05:13:42.263805Z",
     "start_time": "2023-03-28T05:13:42.237366Z"
    }
   },
   "outputs": [
    {
     "data": {
      "text/plain": [
       "661    1\n",
       "122    0\n",
       "113    0\n",
       "14     1\n",
       "529    0\n",
       "      ..\n",
       "366    1\n",
       "301    1\n",
       "382    0\n",
       "140    0\n",
       "463    0\n",
       "Name: Outcome, Length: 192, dtype: int64"
      ]
     },
     "execution_count": 20,
     "metadata": {},
     "output_type": "execute_result"
    }
   ],
   "source": [
    "y_test"
   ]
  },
  {
   "cell_type": "code",
   "execution_count": 21,
   "id": "2a1a18ca",
   "metadata": {
    "ExecuteTime": {
     "end_time": "2023-03-28T05:13:42.327139Z",
     "start_time": "2023-03-28T05:13:42.276158Z"
    }
   },
   "outputs": [
    {
     "data": {
      "text/plain": [
       "762    0\n",
       "127    0\n",
       "564    0\n",
       "375    1\n",
       "663    1\n",
       "      ..\n",
       "763    0\n",
       "192    1\n",
       "629    0\n",
       "559    0\n",
       "684    0\n",
       "Name: Outcome, Length: 576, dtype: int64"
      ]
     },
     "execution_count": 21,
     "metadata": {},
     "output_type": "execute_result"
    }
   ],
   "source": [
    "y_train"
   ]
  },
  {
   "cell_type": "code",
   "execution_count": 22,
   "id": "8f2bc679",
   "metadata": {
    "ExecuteTime": {
     "end_time": "2023-03-28T05:13:42.359190Z",
     "start_time": "2023-03-28T05:13:42.338430Z"
    }
   },
   "outputs": [],
   "source": [
    "Lg = LogisticRegression()"
   ]
  },
  {
   "cell_type": "code",
   "execution_count": 23,
   "id": "5e66e145",
   "metadata": {
    "ExecuteTime": {
     "end_time": "2023-03-28T05:13:42.438311Z",
     "start_time": "2023-03-28T05:13:42.369099Z"
    }
   },
   "outputs": [],
   "source": [
    "Lg.fit(X_train,y_train)\n",
    "\n",
    "y_pred = Lg.predict(X_test)"
   ]
  },
  {
   "cell_type": "code",
   "execution_count": 24,
   "id": "97dcfc7c",
   "metadata": {
    "ExecuteTime": {
     "end_time": "2023-03-28T05:13:42.469665Z",
     "start_time": "2023-03-28T05:13:42.439915Z"
    }
   },
   "outputs": [
    {
     "data": {
      "text/plain": [
       "array([[115,  15],\n",
       "       [ 25,  37]], dtype=int64)"
      ]
     },
     "execution_count": 24,
     "metadata": {},
     "output_type": "execute_result"
    }
   ],
   "source": [
    "confusion_matrix(y_test,y_pred)"
   ]
  },
  {
   "cell_type": "code",
   "execution_count": 25,
   "id": "856f8877",
   "metadata": {
    "ExecuteTime": {
     "end_time": "2023-03-28T05:13:42.503585Z",
     "start_time": "2023-03-28T05:13:42.473678Z"
    }
   },
   "outputs": [],
   "source": [
    "plt.rcParams['figure.figsize'] = (10,5)\n",
    "plt.rcParams['figure.dpi'] = 100\n",
    "\n",
    "sns.set_style('darkgrid')"
   ]
  },
  {
   "cell_type": "code",
   "execution_count": 26,
   "id": "d0ed66fd",
   "metadata": {
    "ExecuteTime": {
     "end_time": "2023-03-28T05:13:42.942912Z",
     "start_time": "2023-03-28T05:13:42.506596Z"
    }
   },
   "outputs": [
    {
     "data": {
      "text/plain": [
       "Text(97.72222222222221, 0.5, 'Actual Values')"
      ]
     },
     "execution_count": 26,
     "metadata": {},
     "output_type": "execute_result"
    },
    {
     "data": {
      "image/png": "[encoded data removed]",
      "text/plain": [
       "<Figure size 1000x500 with 2 Axes>"
      ]
     },
     "metadata": {},
     "output_type": "display_data"
    }
   ],
   "source": [
    "sns.heatmap(confusion_matrix(y_test,y_pred),annot=True)\n",
    "plt.xlabel('Predicted Values')\n",
    "plt.ylabel('Actual Values')"
   ]
  },
  {
   "cell_type": "code",
   "execution_count": 27,
   "id": "c7f54481",
   "metadata": {
    "ExecuteTime": {
     "end_time": "2023-03-28T05:13:43.005595Z",
     "start_time": "2023-03-28T05:13:42.951078Z"
    }
   },
   "outputs": [
    {
     "name": "stdout",
     "output_type": "stream",
     "text": [
      "              precision    recall  f1-score   support\n",
      "\n",
      "           0       0.82      0.88      0.85       130\n",
      "           1       0.71      0.60      0.65        62\n",
      "\n",
      "    accuracy                           0.79       192\n",
      "   macro avg       0.77      0.74      0.75       192\n",
      "weighted avg       0.79      0.79      0.79       192\n",
      "\n"
     ]
    }
   ],
   "source": [
    "print(classification_report(y_test,y_pred))"
   ]
  },
  {
   "cell_type": "code",
   "execution_count": 28,
   "id": "14283445",
   "metadata": {
    "ExecuteTime": {
     "end_time": "2023-03-28T05:13:43.053841Z",
     "start_time": "2023-03-28T05:13:43.027690Z"
    }
   },
   "outputs": [],
   "source": [
    "#compare the prediction of the model"
   ]
  },
  {
   "cell_type": "code",
   "execution_count": 29,
   "id": "bc7339c9",
   "metadata": {
    "ExecuteTime": {
     "end_time": "2023-03-28T05:13:43.101507Z",
     "start_time": "2023-03-28T05:13:43.073299Z"
    }
   },
   "outputs": [
    {
     "name": "stdout",
     "output_type": "stream",
     "text": [
      "[1 0 0 1 0 0 1 1 0 0 1 1 0 0 0 0 1 0 0 0 1 1 0 0 0 0 0 0 0 0]\n",
      "[1 0 0 1 0 0 1 1 1 0 1 1 0 0 0 0 1 0 0 0 1 0 0 0 0 0 0 1 0 0]\n"
     ]
    }
   ],
   "source": [
    "print(y_test[:30].values)\n",
    "print(y_pred[:30])"
   ]
  },
  {
   "cell_type": "code",
   "execution_count": 30,
   "id": "23a67b2d",
   "metadata": {
    "ExecuteTime": {
     "end_time": "2023-03-28T05:13:43.132646Z",
     "start_time": "2023-03-28T05:13:43.105199Z"
    }
   },
   "outputs": [],
   "source": [
    "#select the probability of records being the class 1"
   ]
  },
  {
   "cell_type": "code",
   "execution_count": 31,
   "id": "9ffa0dbd",
   "metadata": {
    "ExecuteTime": {
     "end_time": "2023-03-28T05:13:43.165916Z",
     "start_time": "2023-03-28T05:13:43.143234Z"
    }
   },
   "outputs": [],
   "source": [
    "probab = Lg.predict_proba(X_test)"
   ]
  },
  {
   "cell_type": "code",
   "execution_count": 32,
   "id": "a191ac68",
   "metadata": {
    "ExecuteTime": {
     "end_time": "2023-03-28T05:13:43.195573Z",
     "start_time": "2023-03-28T05:13:43.173190Z"
    }
   },
   "outputs": [
    {
     "data": {
      "text/plain": [
       "array([[0.02569162, 0.97430838],\n",
       "       [0.83977987, 0.16022013],\n",
       "       [0.92321812, 0.07678188],\n",
       "       [0.31950705, 0.68049295],\n",
       "       [0.87805608, 0.12194392],\n",
       "       [0.966181  , 0.033819  ],\n",
       "       [0.19576947, 0.80423053],\n",
       "       [0.10323456, 0.89676544],\n",
       "       [0.49010732, 0.50989268],\n",
       "       [0.63503014, 0.36496986],\n",
       "       [0.35800154, 0.64199846],\n",
       "       [0.03024334, 0.96975666],\n",
       "       [0.68299214, 0.31700786],\n",
       "       [0.74577775, 0.25422225],\n",
       "       [0.86720002, 0.13279998],\n",
       "       [0.82194844, 0.17805156],\n",
       "       [0.10178924, 0.89821076],\n",
       "       [0.97786225, 0.02213775],\n",
       "       [0.53230412, 0.46769588],\n",
       "       [0.7480027 , 0.2519973 ],\n",
       "       [0.3164441 , 0.6835559 ],\n",
       "       [0.61085834, 0.38914166],\n",
       "       [0.78295684, 0.21704316],\n",
       "       [0.94159481, 0.05840519],\n",
       "       [0.94956551, 0.05043449],\n",
       "       [0.6425106 , 0.3574894 ],\n",
       "       [0.95311146, 0.04688854],\n",
       "       [0.05745515, 0.94254485],\n",
       "       [0.89117384, 0.10882616],\n",
       "       [0.87085782, 0.12914218],\n",
       "       [0.47340824, 0.52659176],\n",
       "       [0.75430236, 0.24569764],\n",
       "       [0.89885993, 0.10114007],\n",
       "       [0.49982303, 0.50017697],\n",
       "       [0.9101063 , 0.0898937 ],\n",
       "       [0.32507266, 0.67492734],\n",
       "       [0.50285935, 0.49714065],\n",
       "       [0.91460651, 0.08539349],\n",
       "       [0.67911839, 0.32088161],\n",
       "       [0.264499  , 0.735501  ],\n",
       "       [0.71597125, 0.28402875],\n",
       "       [0.81536525, 0.18463475],\n",
       "       [0.83375488, 0.16624512],\n",
       "       [0.17272649, 0.82727351],\n",
       "       [0.23656712, 0.76343288],\n",
       "       [0.98811817, 0.01188183],\n",
       "       [0.92064621, 0.07935379],\n",
       "       [0.80017978, 0.19982022],\n",
       "       [0.58307616, 0.41692384],\n",
       "       [0.7097143 , 0.2902857 ],\n",
       "       [0.60943117, 0.39056883],\n",
       "       [0.82811361, 0.17188639],\n",
       "       [0.09880324, 0.90119676],\n",
       "       [0.45993845, 0.54006155],\n",
       "       [0.87808606, 0.12191394],\n",
       "       [0.99796357, 0.00203643],\n",
       "       [0.93979412, 0.06020588],\n",
       "       [0.53544322, 0.46455678],\n",
       "       [0.73374406, 0.26625594],\n",
       "       [0.9234022 , 0.0765978 ],\n",
       "       [0.25019227, 0.74980773],\n",
       "       [0.53352365, 0.46647635],\n",
       "       [0.90938827, 0.09061173],\n",
       "       [0.30062731, 0.69937269],\n",
       "       [0.32792365, 0.67207635],\n",
       "       [0.06364149, 0.93635851],\n",
       "       [0.27863068, 0.72136932],\n",
       "       [0.86741392, 0.13258608],\n",
       "       [0.66279409, 0.33720591],\n",
       "       [0.89127631, 0.10872369],\n",
       "       [0.90316619, 0.09683381],\n",
       "       [0.64980258, 0.35019742],\n",
       "       [0.91446223, 0.08553777],\n",
       "       [0.03252291, 0.96747709],\n",
       "       [0.17030448, 0.82969552],\n",
       "       [0.71177692, 0.28822308],\n",
       "       [0.88546234, 0.11453766],\n",
       "       [0.29909702, 0.70090298],\n",
       "       [0.93113447, 0.06886553],\n",
       "       [0.82763762, 0.17236238],\n",
       "       [0.71601615, 0.28398385],\n",
       "       [0.59552367, 0.40447633],\n",
       "       [0.77352191, 0.22647809],\n",
       "       [0.969095  , 0.030905  ],\n",
       "       [0.81136038, 0.18863962],\n",
       "       [0.83355348, 0.16644652],\n",
       "       [0.73240926, 0.26759074],\n",
       "       [0.64620098, 0.35379902],\n",
       "       [0.10669768, 0.89330232],\n",
       "       [0.84086139, 0.15913861],\n",
       "       [0.84065281, 0.15934719],\n",
       "       [0.84040775, 0.15959225],\n",
       "       [0.77400575, 0.22599425],\n",
       "       [0.95849851, 0.04150149],\n",
       "       [0.32289149, 0.67710851],\n",
       "       [0.81027671, 0.18972329],\n",
       "       [0.53173232, 0.46826768],\n",
       "       [0.50048656, 0.49951344],\n",
       "       [0.27517208, 0.72482792],\n",
       "       [0.76975585, 0.23024415],\n",
       "       [0.78382349, 0.21617651],\n",
       "       [0.90565036, 0.09434964],\n",
       "       [0.8201409 , 0.1798591 ],\n",
       "       [0.96434891, 0.03565109],\n",
       "       [0.30113212, 0.69886788],\n",
       "       [0.60722005, 0.39277995],\n",
       "       [0.85557336, 0.14442664],\n",
       "       [0.71352081, 0.28647919],\n",
       "       [0.95878838, 0.04121162],\n",
       "       [0.21334133, 0.78665867],\n",
       "       [0.88337496, 0.11662504],\n",
       "       [0.68781281, 0.31218719],\n",
       "       [0.42702804, 0.57297196],\n",
       "       [0.47228397, 0.52771603],\n",
       "       [0.47100421, 0.52899579],\n",
       "       [0.39849189, 0.60150811],\n",
       "       [0.87767046, 0.12232954],\n",
       "       [0.31959299, 0.68040701],\n",
       "       [0.91173079, 0.08826921],\n",
       "       [0.20526628, 0.79473372],\n",
       "       [0.63034579, 0.36965421],\n",
       "       [0.61431397, 0.38568603],\n",
       "       [0.73398379, 0.26601621],\n",
       "       [0.51749183, 0.48250817],\n",
       "       [0.79194102, 0.20805898],\n",
       "       [0.96273852, 0.03726148],\n",
       "       [0.67846391, 0.32153609],\n",
       "       [0.60525988, 0.39474012],\n",
       "       [0.51052216, 0.48947784],\n",
       "       [0.6356446 , 0.3643554 ],\n",
       "       [0.60762192, 0.39237808],\n",
       "       [0.96159829, 0.03840171],\n",
       "       [0.94799446, 0.05200554],\n",
       "       [0.21629021, 0.78370979],\n",
       "       [0.67005825, 0.32994175],\n",
       "       [0.53964053, 0.46035947],\n",
       "       [0.88281953, 0.11718047],\n",
       "       [0.6253471 , 0.3746529 ],\n",
       "       [0.35581166, 0.64418834],\n",
       "       [0.81804186, 0.18195814],\n",
       "       [0.92869191, 0.07130809],\n",
       "       [0.44903872, 0.55096128],\n",
       "       [0.94473626, 0.05526374],\n",
       "       [0.93174697, 0.06825303],\n",
       "       [0.68919357, 0.31080643],\n",
       "       [0.91715006, 0.08284994],\n",
       "       [0.92702497, 0.07297503],\n",
       "       [0.90555263, 0.09444737],\n",
       "       [0.83645267, 0.16354733],\n",
       "       [0.77661465, 0.22338535],\n",
       "       [0.92460934, 0.07539066],\n",
       "       [0.3618417 , 0.6381583 ],\n",
       "       [0.90992264, 0.09007736],\n",
       "       [0.79877454, 0.20122546],\n",
       "       [0.19398031, 0.80601969],\n",
       "       [0.87671515, 0.12328485],\n",
       "       [0.32958896, 0.67041104],\n",
       "       [0.84829925, 0.15170075],\n",
       "       [0.52972735, 0.47027265],\n",
       "       [0.04793478, 0.95206522],\n",
       "       [0.31044197, 0.68955803],\n",
       "       [0.22660301, 0.77339699],\n",
       "       [0.98099933, 0.01900067],\n",
       "       [0.73377786, 0.26622214],\n",
       "       [0.15101074, 0.84898926],\n",
       "       [0.75909726, 0.24090274],\n",
       "       [0.82518487, 0.17481513],\n",
       "       [0.89670196, 0.10329804],\n",
       "       [0.79421715, 0.20578285],\n",
       "       [0.91285615, 0.08714385],\n",
       "       [0.89181251, 0.10818749],\n",
       "       [0.75355239, 0.24644761],\n",
       "       [0.83527507, 0.16472493],\n",
       "       [0.79588772, 0.20411228],\n",
       "       [0.47613075, 0.52386925],\n",
       "       [0.87358828, 0.12641172],\n",
       "       [0.6228654 , 0.3771346 ],\n",
       "       [0.89912654, 0.10087346],\n",
       "       [0.89524455, 0.10475545],\n",
       "       [0.94155669, 0.05844331],\n",
       "       [0.86833384, 0.13166616],\n",
       "       [0.17110876, 0.82889124],\n",
       "       [0.85887957, 0.14112043],\n",
       "       [0.02719084, 0.97280916],\n",
       "       [0.44220152, 0.55779848],\n",
       "       [0.97611542, 0.02388458],\n",
       "       [0.42175771, 0.57824229],\n",
       "       [0.76226767, 0.23773233],\n",
       "       [0.57205816, 0.42794184],\n",
       "       [0.86261311, 0.13738689],\n",
       "       [0.81390279, 0.18609721],\n",
       "       [0.90648919, 0.09351081]])"
      ]
     },
     "execution_count": 32,
     "metadata": {},
     "output_type": "execute_result"
    }
   ],
   "source": [
    "probab"
   ]
  },
  {
   "cell_type": "code",
   "execution_count": 33,
   "id": "bc80d0c0",
   "metadata": {
    "ExecuteTime": {
     "end_time": "2023-03-28T05:13:43.227164Z",
     "start_time": "2023-03-28T05:13:43.198412Z"
    }
   },
   "outputs": [
    {
     "data": {
      "text/plain": [
       "array([0.97430838, 0.16022013, 0.07678188, 0.68049295, 0.12194392,\n",
       "       0.033819  , 0.80423053, 0.89676544, 0.50989268, 0.36496986,\n",
       "       0.64199846, 0.96975666, 0.31700786, 0.25422225, 0.13279998,\n",
       "       0.17805156, 0.89821076, 0.02213775, 0.46769588, 0.2519973 ,\n",
       "       0.6835559 , 0.38914166, 0.21704316, 0.05840519, 0.05043449,\n",
       "       0.3574894 , 0.04688854, 0.94254485, 0.10882616, 0.12914218,\n",
       "       0.52659176, 0.24569764, 0.10114007, 0.50017697, 0.0898937 ,\n",
       "       0.67492734, 0.49714065, 0.08539349, 0.32088161, 0.735501  ,\n",
       "       0.28402875, 0.18463475, 0.16624512, 0.82727351, 0.76343288,\n",
       "       0.01188183, 0.07935379, 0.19982022, 0.41692384, 0.2902857 ,\n",
       "       0.39056883, 0.17188639, 0.90119676, 0.54006155, 0.12191394,\n",
       "       0.00203643, 0.06020588, 0.46455678, 0.26625594, 0.0765978 ,\n",
       "       0.74980773, 0.46647635, 0.09061173, 0.69937269, 0.67207635,\n",
       "       0.93635851, 0.72136932, 0.13258608, 0.33720591, 0.10872369,\n",
       "       0.09683381, 0.35019742, 0.08553777, 0.96747709, 0.82969552,\n",
       "       0.28822308, 0.11453766, 0.70090298, 0.06886553, 0.17236238,\n",
       "       0.28398385, 0.40447633, 0.22647809, 0.030905  , 0.18863962,\n",
       "       0.16644652, 0.26759074, 0.35379902, 0.89330232, 0.15913861,\n",
       "       0.15934719, 0.15959225, 0.22599425, 0.04150149, 0.67710851,\n",
       "       0.18972329, 0.46826768, 0.49951344, 0.72482792, 0.23024415,\n",
       "       0.21617651, 0.09434964, 0.1798591 , 0.03565109, 0.69886788,\n",
       "       0.39277995, 0.14442664, 0.28647919, 0.04121162, 0.78665867,\n",
       "       0.11662504, 0.31218719, 0.57297196, 0.52771603, 0.52899579,\n",
       "       0.60150811, 0.12232954, 0.68040701, 0.08826921, 0.79473372,\n",
       "       0.36965421, 0.38568603, 0.26601621, 0.48250817, 0.20805898,\n",
       "       0.03726148, 0.32153609, 0.39474012, 0.48947784, 0.3643554 ,\n",
       "       0.39237808, 0.03840171, 0.05200554, 0.78370979, 0.32994175,\n",
       "       0.46035947, 0.11718047, 0.3746529 , 0.64418834, 0.18195814,\n",
       "       0.07130809, 0.55096128, 0.05526374, 0.06825303, 0.31080643,\n",
       "       0.08284994, 0.07297503, 0.09444737, 0.16354733, 0.22338535,\n",
       "       0.07539066, 0.6381583 , 0.09007736, 0.20122546, 0.80601969,\n",
       "       0.12328485, 0.67041104, 0.15170075, 0.47027265, 0.95206522,\n",
       "       0.68955803, 0.77339699, 0.01900067, 0.26622214, 0.84898926,\n",
       "       0.24090274, 0.17481513, 0.10329804, 0.20578285, 0.08714385,\n",
       "       0.10818749, 0.24644761, 0.16472493, 0.20411228, 0.52386925,\n",
       "       0.12641172, 0.3771346 , 0.10087346, 0.10475545, 0.05844331,\n",
       "       0.13166616, 0.82889124, 0.14112043, 0.97280916, 0.55779848,\n",
       "       0.02388458, 0.57824229, 0.23773233, 0.42794184, 0.13738689,\n",
       "       0.18609721, 0.09351081])"
      ]
     },
     "execution_count": 33,
     "metadata": {},
     "output_type": "execute_result"
    }
   ],
   "source": [
    "probab = Lg.predict_proba(X_test)[:,1]\n",
    "probab"
   ]
  },
  {
   "cell_type": "code",
   "execution_count": 34,
   "id": "92bc1b11",
   "metadata": {
    "ExecuteTime": {
     "end_time": "2023-03-28T05:13:43.259216Z",
     "start_time": "2023-03-28T05:13:43.238452Z"
    }
   },
   "outputs": [],
   "source": [
    "#plot the roc auc curve for prediction and probabilities"
   ]
  },
  {
   "cell_type": "code",
   "execution_count": 35,
   "id": "efe03053",
   "metadata": {
    "ExecuteTime": {
     "end_time": "2023-03-28T05:13:43.813320Z",
     "start_time": "2023-03-28T05:13:43.268464Z"
    }
   },
   "outputs": [
    {
     "data": {
      "text/plain": [
       "<matplotlib.legend.Legend at 0x24f38e03f70>"
      ]
     },
     "execution_count": 35,
     "metadata": {},
     "output_type": "execute_result"
    },
    {
     "data": {
      "image/png": "[encoded data removed]",
      "text/plain": [
       "<Figure size 1000x500 with 1 Axes>"
      ]
     },
     "metadata": {},
     "output_type": "display_data"
    }
   ],
   "source": [
    "auc = roc_auc_score(y_test,probab)\n",
    "\n",
    "fpr,tpr,threshold = roc_curve(y_test,probab)\n",
    "\n",
    "plt.plot(fpr,tpr,color = 'green',label = 'AUC = %0.2f'%auc)\n",
    "plt.xlabel('False Positive Rate')\n",
    "plt.ylabel('True Positive Rate')\n",
    "plt.legend()"
   ]
  },
  {
   "cell_type": "markdown",
   "id": "bc43a3d3",
   "metadata": {
    "ExecuteTime": {
     "end_time": "2023-03-28T04:55:18.561925Z",
     "start_time": "2023-03-28T04:55:18.521881Z"
    }
   },
   "source": [
    "# Select the best threshold value for the model"
   ]
  },
  {
   "cell_type": "code",
   "execution_count": 36,
   "id": "bc970404",
   "metadata": {
    "ExecuteTime": {
     "end_time": "2023-03-28T05:13:43.845064Z",
     "start_time": "2023-03-28T05:13:43.819569Z"
    }
   },
   "outputs": [],
   "source": [
    "#threshold values"
   ]
  },
  {
   "cell_type": "code",
   "execution_count": 37,
   "id": "df68c1b5",
   "metadata": {
    "ExecuteTime": {
     "end_time": "2023-03-28T05:13:43.892226Z",
     "start_time": "2023-03-28T05:13:43.855716Z"
    }
   },
   "outputs": [
    {
     "data": {
      "text/plain": [
       "array([1.97430838, 0.97430838, 0.96975666, 0.96747709, 0.95206522,\n",
       "       0.94254485, 0.89330232, 0.84898926, 0.74980773, 0.735501  ,\n",
       "       0.72136932, 0.70090298, 0.69937269, 0.69886788, 0.68049295,\n",
       "       0.67710851, 0.67207635, 0.67041104, 0.55779848, 0.54006155,\n",
       "       0.52771603, 0.49951344, 0.49714065, 0.48250817, 0.46826768,\n",
       "       0.46647635, 0.41692384, 0.40447633, 0.39277995, 0.39056883,\n",
       "       0.38914166, 0.3771346 , 0.3746529 , 0.31700786, 0.2902857 ,\n",
       "       0.28398385, 0.26625594, 0.24569764, 0.23024415, 0.22599425,\n",
       "       0.22338535, 0.20578285, 0.20411228, 0.20122546, 0.19982022,\n",
       "       0.16624512, 0.16472493, 0.13258608, 0.13166616, 0.07678188,\n",
       "       0.0765978 , 0.00203643])"
      ]
     },
     "execution_count": 37,
     "metadata": {},
     "output_type": "execute_result"
    }
   ],
   "source": [
    "threshold"
   ]
  },
  {
   "cell_type": "code",
   "execution_count": 38,
   "id": "2e43c911",
   "metadata": {
    "ExecuteTime": {
     "end_time": "2023-03-28T05:13:44.051577Z",
     "start_time": "2023-03-28T05:13:43.899759Z"
    }
   },
   "outputs": [
    {
     "data": {
      "text/html": [
       "<div>\n",
       "<style scoped>\n",
       "    .dataframe tbody tr th:only-of-type {\n",
       "        vertical-align: middle;\n",
       "    }\n",
       "\n",
       "    .dataframe tbody tr th {\n",
       "        vertical-align: top;\n",
       "    }\n",
       "\n",
       "    .dataframe thead th {\n",
       "        text-align: right;\n",
       "    }\n",
       "</style>\n",
       "<table border=\"1\" class=\"dataframe\">\n",
       "  <thead>\n",
       "    <tr style=\"text-align: right;\">\n",
       "      <th></th>\n",
       "      <th>Accuracy</th>\n",
       "      <th>Threshold</th>\n",
       "    </tr>\n",
       "  </thead>\n",
       "  <tbody>\n",
       "    <tr>\n",
       "      <th>18</th>\n",
       "      <td>0.807292</td>\n",
       "      <td>0.557798</td>\n",
       "    </tr>\n",
       "    <tr>\n",
       "      <th>20</th>\n",
       "      <td>0.807292</td>\n",
       "      <td>0.527716</td>\n",
       "    </tr>\n",
       "    <tr>\n",
       "      <th>19</th>\n",
       "      <td>0.807292</td>\n",
       "      <td>0.540062</td>\n",
       "    </tr>\n",
       "    <tr>\n",
       "      <th>29</th>\n",
       "      <td>0.802083</td>\n",
       "      <td>0.390569</td>\n",
       "    </tr>\n",
       "    <tr>\n",
       "      <th>28</th>\n",
       "      <td>0.802083</td>\n",
       "      <td>0.392780</td>\n",
       "    </tr>\n",
       "    <tr>\n",
       "      <th>27</th>\n",
       "      <td>0.802083</td>\n",
       "      <td>0.404476</td>\n",
       "    </tr>\n",
       "    <tr>\n",
       "      <th>26</th>\n",
       "      <td>0.796875</td>\n",
       "      <td>0.416924</td>\n",
       "    </tr>\n",
       "    <tr>\n",
       "      <th>31</th>\n",
       "      <td>0.796875</td>\n",
       "      <td>0.377135</td>\n",
       "    </tr>\n",
       "    <tr>\n",
       "      <th>30</th>\n",
       "      <td>0.796875</td>\n",
       "      <td>0.389142</td>\n",
       "    </tr>\n",
       "    <tr>\n",
       "      <th>32</th>\n",
       "      <td>0.791667</td>\n",
       "      <td>0.374653</td>\n",
       "    </tr>\n",
       "    <tr>\n",
       "      <th>21</th>\n",
       "      <td>0.791667</td>\n",
       "      <td>0.499513</td>\n",
       "    </tr>\n",
       "    <tr>\n",
       "      <th>22</th>\n",
       "      <td>0.786458</td>\n",
       "      <td>0.497141</td>\n",
       "    </tr>\n",
       "    <tr>\n",
       "      <th>23</th>\n",
       "      <td>0.786458</td>\n",
       "      <td>0.482508</td>\n",
       "    </tr>\n",
       "    <tr>\n",
       "      <th>25</th>\n",
       "      <td>0.786458</td>\n",
       "      <td>0.466476</td>\n",
       "    </tr>\n",
       "    <tr>\n",
       "      <th>24</th>\n",
       "      <td>0.786458</td>\n",
       "      <td>0.468268</td>\n",
       "    </tr>\n",
       "    <tr>\n",
       "      <th>17</th>\n",
       "      <td>0.781250</td>\n",
       "      <td>0.670411</td>\n",
       "    </tr>\n",
       "    <tr>\n",
       "      <th>14</th>\n",
       "      <td>0.776042</td>\n",
       "      <td>0.680493</td>\n",
       "    </tr>\n",
       "    <tr>\n",
       "      <th>15</th>\n",
       "      <td>0.776042</td>\n",
       "      <td>0.677109</td>\n",
       "    </tr>\n",
       "    <tr>\n",
       "      <th>16</th>\n",
       "      <td>0.776042</td>\n",
       "      <td>0.672076</td>\n",
       "    </tr>\n",
       "    <tr>\n",
       "      <th>11</th>\n",
       "      <td>0.770833</td>\n",
       "      <td>0.700903</td>\n",
       "    </tr>\n",
       "    <tr>\n",
       "      <th>13</th>\n",
       "      <td>0.770833</td>\n",
       "      <td>0.698868</td>\n",
       "    </tr>\n",
       "    <tr>\n",
       "      <th>9</th>\n",
       "      <td>0.765625</td>\n",
       "      <td>0.735501</td>\n",
       "    </tr>\n",
       "    <tr>\n",
       "      <th>10</th>\n",
       "      <td>0.765625</td>\n",
       "      <td>0.721369</td>\n",
       "    </tr>\n",
       "    <tr>\n",
       "      <th>12</th>\n",
       "      <td>0.765625</td>\n",
       "      <td>0.699373</td>\n",
       "    </tr>\n",
       "    <tr>\n",
       "      <th>8</th>\n",
       "      <td>0.760417</td>\n",
       "      <td>0.749808</td>\n",
       "    </tr>\n",
       "    <tr>\n",
       "      <th>34</th>\n",
       "      <td>0.750000</td>\n",
       "      <td>0.290286</td>\n",
       "    </tr>\n",
       "    <tr>\n",
       "      <th>33</th>\n",
       "      <td>0.744792</td>\n",
       "      <td>0.317008</td>\n",
       "    </tr>\n",
       "    <tr>\n",
       "      <th>36</th>\n",
       "      <td>0.739583</td>\n",
       "      <td>0.266256</td>\n",
       "    </tr>\n",
       "    <tr>\n",
       "      <th>35</th>\n",
       "      <td>0.739583</td>\n",
       "      <td>0.283984</td>\n",
       "    </tr>\n",
       "    <tr>\n",
       "      <th>39</th>\n",
       "      <td>0.723958</td>\n",
       "      <td>0.225994</td>\n",
       "    </tr>\n",
       "    <tr>\n",
       "      <th>38</th>\n",
       "      <td>0.723958</td>\n",
       "      <td>0.230244</td>\n",
       "    </tr>\n",
       "    <tr>\n",
       "      <th>40</th>\n",
       "      <td>0.718750</td>\n",
       "      <td>0.223385</td>\n",
       "    </tr>\n",
       "    <tr>\n",
       "      <th>37</th>\n",
       "      <td>0.718750</td>\n",
       "      <td>0.245698</td>\n",
       "    </tr>\n",
       "    <tr>\n",
       "      <th>7</th>\n",
       "      <td>0.713542</td>\n",
       "      <td>0.848989</td>\n",
       "    </tr>\n",
       "    <tr>\n",
       "      <th>6</th>\n",
       "      <td>0.708333</td>\n",
       "      <td>0.893302</td>\n",
       "    </tr>\n",
       "    <tr>\n",
       "      <th>43</th>\n",
       "      <td>0.708333</td>\n",
       "      <td>0.201225</td>\n",
       "    </tr>\n",
       "    <tr>\n",
       "      <th>41</th>\n",
       "      <td>0.708333</td>\n",
       "      <td>0.205783</td>\n",
       "    </tr>\n",
       "    <tr>\n",
       "      <th>44</th>\n",
       "      <td>0.703125</td>\n",
       "      <td>0.199820</td>\n",
       "    </tr>\n",
       "    <tr>\n",
       "      <th>42</th>\n",
       "      <td>0.703125</td>\n",
       "      <td>0.204112</td>\n",
       "    </tr>\n",
       "    <tr>\n",
       "      <th>3</th>\n",
       "      <td>0.692708</td>\n",
       "      <td>0.967477</td>\n",
       "    </tr>\n",
       "    <tr>\n",
       "      <th>5</th>\n",
       "      <td>0.692708</td>\n",
       "      <td>0.942545</td>\n",
       "    </tr>\n",
       "    <tr>\n",
       "      <th>2</th>\n",
       "      <td>0.687500</td>\n",
       "      <td>0.969757</td>\n",
       "    </tr>\n",
       "    <tr>\n",
       "      <th>4</th>\n",
       "      <td>0.687500</td>\n",
       "      <td>0.952065</td>\n",
       "    </tr>\n",
       "    <tr>\n",
       "      <th>0</th>\n",
       "      <td>0.677083</td>\n",
       "      <td>1.974308</td>\n",
       "    </tr>\n",
       "    <tr>\n",
       "      <th>1</th>\n",
       "      <td>0.677083</td>\n",
       "      <td>0.974308</td>\n",
       "    </tr>\n",
       "    <tr>\n",
       "      <th>45</th>\n",
       "      <td>0.651042</td>\n",
       "      <td>0.166245</td>\n",
       "    </tr>\n",
       "    <tr>\n",
       "      <th>46</th>\n",
       "      <td>0.645833</td>\n",
       "      <td>0.164725</td>\n",
       "    </tr>\n",
       "    <tr>\n",
       "      <th>47</th>\n",
       "      <td>0.598958</td>\n",
       "      <td>0.132586</td>\n",
       "    </tr>\n",
       "    <tr>\n",
       "      <th>48</th>\n",
       "      <td>0.593750</td>\n",
       "      <td>0.131666</td>\n",
       "    </tr>\n",
       "    <tr>\n",
       "      <th>49</th>\n",
       "      <td>0.447917</td>\n",
       "      <td>0.076782</td>\n",
       "    </tr>\n",
       "    <tr>\n",
       "      <th>50</th>\n",
       "      <td>0.442708</td>\n",
       "      <td>0.076598</td>\n",
       "    </tr>\n",
       "    <tr>\n",
       "      <th>51</th>\n",
       "      <td>0.328125</td>\n",
       "      <td>0.002036</td>\n",
       "    </tr>\n",
       "  </tbody>\n",
       "</table>\n",
       "</div>"
      ],
      "text/plain": [
       "    Accuracy  Threshold\n",
       "18  0.807292   0.557798\n",
       "20  0.807292   0.527716\n",
       "19  0.807292   0.540062\n",
       "29  0.802083   0.390569\n",
       "28  0.802083   0.392780\n",
       "27  0.802083   0.404476\n",
       "26  0.796875   0.416924\n",
       "31  0.796875   0.377135\n",
       "30  0.796875   0.389142\n",
       "32  0.791667   0.374653\n",
       "21  0.791667   0.499513\n",
       "22  0.786458   0.497141\n",
       "23  0.786458   0.482508\n",
       "25  0.786458   0.466476\n",
       "24  0.786458   0.468268\n",
       "17  0.781250   0.670411\n",
       "14  0.776042   0.680493\n",
       "15  0.776042   0.677109\n",
       "16  0.776042   0.672076\n",
       "11  0.770833   0.700903\n",
       "13  0.770833   0.698868\n",
       "9   0.765625   0.735501\n",
       "10  0.765625   0.721369\n",
       "12  0.765625   0.699373\n",
       "8   0.760417   0.749808\n",
       "34  0.750000   0.290286\n",
       "33  0.744792   0.317008\n",
       "36  0.739583   0.266256\n",
       "35  0.739583   0.283984\n",
       "39  0.723958   0.225994\n",
       "38  0.723958   0.230244\n",
       "40  0.718750   0.223385\n",
       "37  0.718750   0.245698\n",
       "7   0.713542   0.848989\n",
       "6   0.708333   0.893302\n",
       "43  0.708333   0.201225\n",
       "41  0.708333   0.205783\n",
       "44  0.703125   0.199820\n",
       "42  0.703125   0.204112\n",
       "3   0.692708   0.967477\n",
       "5   0.692708   0.942545\n",
       "2   0.687500   0.969757\n",
       "4   0.687500   0.952065\n",
       "0   0.677083   1.974308\n",
       "1   0.677083   0.974308\n",
       "45  0.651042   0.166245\n",
       "46  0.645833   0.164725\n",
       "47  0.598958   0.132586\n",
       "48  0.593750   0.131666\n",
       "49  0.447917   0.076782\n",
       "50  0.442708   0.076598\n",
       "51  0.328125   0.002036"
      ]
     },
     "execution_count": 38,
     "metadata": {},
     "output_type": "execute_result"
    }
   ],
   "source": [
    "accuracy = []\n",
    "\n",
    "for i in threshold:\n",
    "    y_pred = np.where(probab>i,1,0)\n",
    "    accuracy.append(accuracy_score(y_test,y_pred))\n",
    "    \n",
    "threshold_selection = pd.concat([pd.Series(accuracy),pd.Series(threshold)],axis=1)\n",
    "threshold_selection.columns = ['Accuracy','Threshold']\n",
    "threshold_selection.sort_values(by = 'Accuracy',ascending=False)"
   ]
  },
  {
   "cell_type": "code",
   "execution_count": 39,
   "id": "55dc0f00",
   "metadata": {
    "ExecuteTime": {
     "end_time": "2023-03-28T05:13:44.083045Z",
     "start_time": "2023-03-28T05:13:44.058312Z"
    }
   },
   "outputs": [],
   "source": [
    "from sklearn.preprocessing import binarize"
   ]
  },
  {
   "cell_type": "code",
   "execution_count": 40,
   "id": "47930631",
   "metadata": {
    "ExecuteTime": {
     "end_time": "2023-03-28T05:13:44.116338Z",
     "start_time": "2023-03-28T05:13:44.089733Z"
    }
   },
   "outputs": [],
   "source": [
    "bn = binarize([probab],threshold=0.37)[0]"
   ]
  },
  {
   "cell_type": "code",
   "execution_count": 41,
   "id": "aecbe1f7",
   "metadata": {
    "ExecuteTime": {
     "end_time": "2023-03-28T05:13:44.146800Z",
     "start_time": "2023-03-28T05:13:44.123368Z"
    }
   },
   "outputs": [
    {
     "data": {
      "text/plain": [
       "array([1., 0., 0., 1., 0., 0., 1., 1., 1., 0., 1., 1., 0., 0., 0., 0., 1.,\n",
       "       0., 1., 0., 1., 1., 0., 0., 0., 0., 0., 1., 0., 0., 1., 0., 0., 1.,\n",
       "       0., 1., 1., 0., 0., 1., 0., 0., 0., 1., 1., 0., 0., 0., 1., 0., 1.,\n",
       "       0., 1., 1., 0., 0., 0., 1., 0., 0., 1., 1., 0., 1., 1., 1., 1., 0.,\n",
       "       0., 0., 0., 0., 0., 1., 1., 0., 0., 1., 0., 0., 0., 1., 0., 0., 0.,\n",
       "       0., 0., 0., 1., 0., 0., 0., 0., 0., 1., 0., 1., 1., 1., 0., 0., 0.,\n",
       "       0., 0., 1., 1., 0., 0., 0., 1., 0., 0., 1., 1., 1., 1., 0., 1., 0.,\n",
       "       1., 0., 1., 0., 1., 0., 0., 0., 1., 1., 0., 1., 0., 0., 1., 0., 1.,\n",
       "       0., 1., 1., 0., 0., 1., 0., 0., 0., 0., 0., 0., 0., 0., 0., 1., 0.,\n",
       "       0., 1., 0., 1., 0., 1., 1., 1., 1., 0., 0., 1., 0., 0., 0., 0., 0.,\n",
       "       0., 0., 0., 0., 1., 0., 1., 0., 0., 0., 0., 1., 0., 1., 1., 0., 1.,\n",
       "       0., 1., 0., 0., 0.])"
      ]
     },
     "execution_count": 41,
     "metadata": {},
     "output_type": "execute_result"
    }
   ],
   "source": [
    "bn"
   ]
  },
  {
   "cell_type": "code",
   "execution_count": 42,
   "id": "f4245e37",
   "metadata": {
    "ExecuteTime": {
     "end_time": "2023-03-28T05:13:44.162665Z",
     "start_time": "2023-03-28T05:13:44.155688Z"
    }
   },
   "outputs": [],
   "source": [
    "#check the accuracy for the model with selected threshold"
   ]
  },
  {
   "cell_type": "code",
   "execution_count": 43,
   "id": "322b6854",
   "metadata": {
    "ExecuteTime": {
     "end_time": "2023-03-28T05:13:44.210132Z",
     "start_time": "2023-03-28T05:13:44.173558Z"
    }
   },
   "outputs": [
    {
     "name": "stdout",
     "output_type": "stream",
     "text": [
      "              precision    recall  f1-score   support\n",
      "\n",
      "           0       0.88      0.81      0.84       130\n",
      "           1       0.66      0.77      0.71        62\n",
      "\n",
      "    accuracy                           0.80       192\n",
      "   macro avg       0.77      0.79      0.78       192\n",
      "weighted avg       0.81      0.80      0.80       192\n",
      "\n"
     ]
    }
   ],
   "source": [
    "print(classification_report(y_test,bn))"
   ]
  },
  {
   "cell_type": "markdown",
   "id": "d806fc04",
   "metadata": {},
   "source": [
    "# Thank You!"
   ]
  }
 ],
 "metadata": {
  "kernelspec": {
   "display_name": "Python 3 (ipykernel)",
   "language": "python",
   "name": "python3"
  },
  "language_info": {
   "codemirror_mode": {
    "name": "ipython",
    "version": 3
   },
   "file_extension": ".py",
   "mimetype": "text/x-python",
   "name": "python",
   "nbconvert_exporter": "python",
   "pygments_lexer": "ipython3",
   "version": "3.9.12"
  }
 },
 "nbformat": 4,
 "nbformat_minor": 5
}
